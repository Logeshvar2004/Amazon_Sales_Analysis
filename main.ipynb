import pandas as pd
import matplotlib.pyplot as plt
import seaborn as sns
data= pd.read_csv(r'D:\Coding\python\amazon\SALESDATA.csv', parse_dates=['DateKey','Invoice Date','Promised Delivery Date'])
data.head()
data.info()
data.isnull().sum()
data.describe()
df= data.copy()

df['Discount Amount']=df['Discount Amount'].fillna(df['Discount Amount'].mean())
df['Sales Price']=df['Sales Price'].interpolate()
df['Invoice Year']=df['Invoice Date'].dt.year
df['Invoice month']=df['Invoice Date'].dt.month
df['Invoice quarter']=df['Invoice Date'].dt.quarter
df['Invoice day']=df['Invoice Date'].dt.day
df.columns
#df1= df.drop(['DateKey','Invoice Date','Item Class','Line Number','Promised Delivery Date','Item Class','Item Number','Invoice Number'], axis=1)
inc=['CustKey', 'Item','Invoice month','Invoice day','Invoice Year','Invoice quarter','Sales Quantity','Sales Amount','Sales Amount Based on List Price','Discount Amount','Sales Margin Amount','Sales Cost Amount','Sales Rep','U/M','List Price','Sales Price']
df1=df[inc]
df1.isnull().sum()
df1.head()
plt.figure(figsize=(15,8))
sns.heatmap(df1.drop(['Item','U/M'], axis=1).corr(method='pearson'),annot=True,vmin=-1,vmax=1, cmap='YlGnBu')
df1.drop(['Item','U/M'], axis=1).corr()['Sales Quantity']
Here we came to know that Sales Quantity and Sales Amount are highly Correlated.
                                                    YEARLY SALES REPORT
yearly_sale= df1[inc].drop(['Item','U/M'], axis=1)
ys=yearly_sale.groupby('Invoice Year').sum().reset_index()
sns.barplot(y='Sales Amount',x='Invoice Year',data=ys)
plt.title('Year Wise Revenue')
                                                    Yearly-Monthwise Records
yms= df1.groupby(['Invoice Year','Invoice month']).sum().reset_index()
sns.relplot(x ='Invoice month',y = 'Sales Amount', data=yms,height=5,kind = 'line', aspect = 1, col = 'Invoice Year')
plt.xlabel('Month')
plt.ylabel('Sales Amount')
                                                                Monthly Records
m= df1.groupby(['Invoice Year','Invoice month', 'Invoice day']).sum().reset_index()
sns.relplot(y ='Sales Quantity',x = 'Sales Amount', data=df1,height = 3,aspect=1,
            col = 'Invoice month',col_wrap=5)
